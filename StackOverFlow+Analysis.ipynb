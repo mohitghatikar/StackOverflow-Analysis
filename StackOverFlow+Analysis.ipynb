{
 "cells": [
  {
   "cell_type": "markdown",
   "metadata": {},
   "source": [
    "# Problem Statement\n",
    "\n",
    "The dataset is based on Stack Overflow's survey results which describes developers favorite languages, coding habits and workstyle preferences.\n",
    "\n",
    "I have divided my analysis into two parts. In the first part, I will examine **2017** survey results to answer 4 questions.<br/>\n",
    "**1)**\tWhat is the percentage of respondents who use R vs Python? Specifically, what is the percentage of R and Python users only for Data Scientists? I feel that comparing R and Python on all respondents would be unfair, since Python is a general-purpose programming language, whereas R has niche fan base among Researchers, Statisticians and Data Scientists alike. For example, most of my experience in using Python is dealing with dataframes in pandas, whereas the software engineers in my company usually use Python tasks like building data pipelines or deploying features on AWS lambda.\n",
    "\n",
    "**2)**\tWhat are the most used languages by Data Scientists? R and Python are popular for tasks like data wrangling, NLP and Machine Learning, but I also expect SQL to be on the top of the list since querying data from multiple tables is essential in any organization. Beyond that, it also wouldn’t be surprising to see languages like Scala, Java or C++ since they are typically utilized for deploying Machine Learning models in production.\n",
    "\n",
    "**3)**\tWhat is the education background among Data Scientists? I expect to see a higher percentage of advanced degrees compared to peers from other professions.\n",
    "\n",
    "**4)**\tWhat is the median salary for Data Scientists? \n",
    "\n",
    "In the second part, I will inspect data from **2011-2017** to answer the following 4 questions:<br/>\n",
    "**5**)\tWhat is the percentage increase in respondents who call themselves Data Scientists? There has been an increased demand for professionals who can generate insights from data in the last 5 years and I would like to see if this trend is captured.\n",
    "\n",
    "**6**)\tWhat is the percentage increase in R and Python users for Data Scientists?\n",
    "\n",
    "**7**)\tWhat is the trend among Data Scientists who have a Bachelor’s Vs Master's Vs PhD? To keep up with the demand, many universities have begun offering Masters program in Data Science. Do we see an increase in respondents who have a Master's degree?\n",
    "\n",
    "**8**)\tWhat is the percentage increase in median salary for Data Scientists? \n",
    "\n"
   ]
  },
  {
   "cell_type": "code",
   "execution_count": 19,
   "metadata": {
    "collapsed": true
   },
   "outputs": [],
   "source": [
    "# Importing Libraries\n",
    "import pandas as pd\n",
    "import numpy as np\n",
    "% matplotlib inline\n",
    "import matplotlib.pyplot as plt\n",
    "from __future__ import division"
   ]
  },
  {
   "cell_type": "code",
   "execution_count": 2,
   "metadata": {
    "collapsed": true
   },
   "outputs": [],
   "source": [
    "# Read 2017 survey results\n",
    "df2017 = pd.read_csv('/Users/mohitravi/Desktop/developer_survey_2017/survey_results_public.csv')"
   ]
  },
  {
   "cell_type": "code",
   "execution_count": 147,
   "metadata": {
    "collapsed": false
   },
   "outputs": [
    {
     "data": {
      "text/html": [
       "<div>\n",
       "<table border=\"1\" class=\"dataframe\">\n",
       "  <thead>\n",
       "    <tr style=\"text-align: right;\">\n",
       "      <th></th>\n",
       "      <th>Respondent</th>\n",
       "      <th>Professional</th>\n",
       "      <th>ProgramHobby</th>\n",
       "      <th>Country</th>\n",
       "      <th>University</th>\n",
       "      <th>EmploymentStatus</th>\n",
       "      <th>FormalEducation</th>\n",
       "      <th>MajorUndergrad</th>\n",
       "      <th>HomeRemote</th>\n",
       "      <th>CompanySize</th>\n",
       "      <th>...</th>\n",
       "      <th>SurveyLong</th>\n",
       "      <th>QuestionsInteresting</th>\n",
       "      <th>QuestionsConfusing</th>\n",
       "      <th>InterestedAnswers</th>\n",
       "      <th>Salary</th>\n",
       "      <th>ExpectedSalary</th>\n",
       "      <th>RUser</th>\n",
       "      <th>PythonUser</th>\n",
       "      <th>Both</th>\n",
       "      <th>IsDataScientist</th>\n",
       "    </tr>\n",
       "  </thead>\n",
       "  <tbody>\n",
       "    <tr>\n",
       "      <th>0</th>\n",
       "      <td>1</td>\n",
       "      <td>Student</td>\n",
       "      <td>Yes, both</td>\n",
       "      <td>United States</td>\n",
       "      <td>No</td>\n",
       "      <td>Not employed, and not looking for work</td>\n",
       "      <td>Secondary school</td>\n",
       "      <td>NaN</td>\n",
       "      <td>NaN</td>\n",
       "      <td>NaN</td>\n",
       "      <td>...</td>\n",
       "      <td>Strongly disagree</td>\n",
       "      <td>Strongly agree</td>\n",
       "      <td>Disagree</td>\n",
       "      <td>Strongly agree</td>\n",
       "      <td>NaN</td>\n",
       "      <td>NaN</td>\n",
       "      <td>False</td>\n",
       "      <td>False</td>\n",
       "      <td>False</td>\n",
       "      <td>False</td>\n",
       "    </tr>\n",
       "    <tr>\n",
       "      <th>1</th>\n",
       "      <td>2</td>\n",
       "      <td>Student</td>\n",
       "      <td>Yes, both</td>\n",
       "      <td>United Kingdom</td>\n",
       "      <td>Yes, full-time</td>\n",
       "      <td>Employed part-time</td>\n",
       "      <td>Some college/university study without earning ...</td>\n",
       "      <td>Computer science or software engineering</td>\n",
       "      <td>More than half, but not all, the time</td>\n",
       "      <td>20 to 99 employees</td>\n",
       "      <td>...</td>\n",
       "      <td>Somewhat agree</td>\n",
       "      <td>Somewhat agree</td>\n",
       "      <td>Disagree</td>\n",
       "      <td>Strongly agree</td>\n",
       "      <td>NaN</td>\n",
       "      <td>37500.0</td>\n",
       "      <td>False</td>\n",
       "      <td>True</td>\n",
       "      <td>False</td>\n",
       "      <td>False</td>\n",
       "    </tr>\n",
       "    <tr>\n",
       "      <th>2</th>\n",
       "      <td>3</td>\n",
       "      <td>Professional developer</td>\n",
       "      <td>Yes, both</td>\n",
       "      <td>United Kingdom</td>\n",
       "      <td>No</td>\n",
       "      <td>Employed full-time</td>\n",
       "      <td>Bachelor's degree</td>\n",
       "      <td>Computer science or software engineering</td>\n",
       "      <td>Less than half the time, but at least one day ...</td>\n",
       "      <td>10,000 or more employees</td>\n",
       "      <td>...</td>\n",
       "      <td>Somewhat agree</td>\n",
       "      <td>Agree</td>\n",
       "      <td>Disagree</td>\n",
       "      <td>Agree</td>\n",
       "      <td>113750.0</td>\n",
       "      <td>NaN</td>\n",
       "      <td>False</td>\n",
       "      <td>True</td>\n",
       "      <td>False</td>\n",
       "      <td>False</td>\n",
       "    </tr>\n",
       "  </tbody>\n",
       "</table>\n",
       "<p>3 rows × 158 columns</p>\n",
       "</div>"
      ],
      "text/plain": [
       "   Respondent            Professional ProgramHobby         Country  \\\n",
       "0           1                 Student    Yes, both   United States   \n",
       "1           2                 Student    Yes, both  United Kingdom   \n",
       "2           3  Professional developer    Yes, both  United Kingdom   \n",
       "\n",
       "       University                        EmploymentStatus  \\\n",
       "0              No  Not employed, and not looking for work   \n",
       "1  Yes, full-time                      Employed part-time   \n",
       "2              No                      Employed full-time   \n",
       "\n",
       "                                     FormalEducation  \\\n",
       "0                                   Secondary school   \n",
       "1  Some college/university study without earning ...   \n",
       "2                                  Bachelor's degree   \n",
       "\n",
       "                             MajorUndergrad  \\\n",
       "0                                       NaN   \n",
       "1  Computer science or software engineering   \n",
       "2  Computer science or software engineering   \n",
       "\n",
       "                                          HomeRemote  \\\n",
       "0                                                NaN   \n",
       "1              More than half, but not all, the time   \n",
       "2  Less than half the time, but at least one day ...   \n",
       "\n",
       "                CompanySize       ...                SurveyLong  \\\n",
       "0                       NaN       ...         Strongly disagree   \n",
       "1        20 to 99 employees       ...            Somewhat agree   \n",
       "2  10,000 or more employees       ...            Somewhat agree   \n",
       "\n",
       "  QuestionsInteresting QuestionsConfusing InterestedAnswers    Salary  \\\n",
       "0       Strongly agree           Disagree    Strongly agree       NaN   \n",
       "1       Somewhat agree           Disagree    Strongly agree       NaN   \n",
       "2                Agree           Disagree             Agree  113750.0   \n",
       "\n",
       "  ExpectedSalary  RUser PythonUser   Both  IsDataScientist  \n",
       "0            NaN  False      False  False            False  \n",
       "1        37500.0  False       True  False            False  \n",
       "2            NaN  False       True  False            False  \n",
       "\n",
       "[3 rows x 158 columns]"
      ]
     },
     "execution_count": 147,
     "metadata": {},
     "output_type": "execute_result"
    }
   ],
   "source": [
    "df2017.head(3)"
   ]
  },
  {
   "cell_type": "code",
   "execution_count": 4,
   "metadata": {
    "collapsed": false
   },
   "outputs": [
    {
     "data": {
      "text/plain": [
       "(51392, 154)"
      ]
     },
     "execution_count": 4,
     "metadata": {},
     "output_type": "execute_result"
    }
   ],
   "source": [
    "df2017.shape"
   ]
  },
  {
   "cell_type": "code",
   "execution_count": 40,
   "metadata": {
    "collapsed": true
   },
   "outputs": [],
   "source": [
    "# Create functions for respondants who use R, Python or Both R and Python\n",
    "def RUser(df):\n",
    "    return(df.apply(lambda x: 'R' in str(x).split('; ')))\n",
    "\n",
    "def PythonUser(df):\n",
    "    return(df.apply(lambda x: 'Python' in str(x).split('; ')))\n",
    "\n",
    "def RandPython(df):\n",
    "    return(df.apply(lambda x: True if ('R' in str(x).split('; ') and \n",
    "                                                  'Python' in str(x).split('; ')) else False))"
   ]
  },
  {
   "cell_type": "markdown",
   "metadata": {},
   "source": [
    "# **Question - 1**"
   ]
  },
  {
   "cell_type": "code",
   "execution_count": 41,
   "metadata": {
    "collapsed": false
   },
   "outputs": [
    {
     "name": "stdout",
     "output_type": "stream",
     "text": [
      "Respondants who use R: 1634\n",
      "Respondants who use Python: 11704\n",
      "Respondants who use both R and Python: 1026\n",
      "Total Respondants who use atleast one langauge: 36625\n"
     ]
    }
   ],
   "source": [
    "#Compare R, Python or Both R and Python for all Respondants\n",
    "df2017['RUser'] = RUser(df2017['HaveWorkedLanguage'])\n",
    "df2017['PythonUser'] = PythonUser(df2017['HaveWorkedLanguage'])\n",
    "df2017['Both'] = RandPython(df2017['HaveWorkedLanguage'])\n",
    "\n",
    "print 'Respondants who use R:', df2017['RUser'].sum()\n",
    "print 'Respondants who use Python:', df2017['PythonUser'].sum()\n",
    "print 'Respondants who use both R and Python:', df2017['Both'].sum()\n",
    "print 'Total Respondants who use atleast one langauge:', df2017['HaveWorkedLanguage'].notnull().sum()"
   ]
  },
  {
   "cell_type": "markdown",
   "metadata": {},
   "source": [
    "Let X be respondants who use R, Y be respondants who use Python. Then X∩Y are respondants who use both R and Python.<br/>\n",
    "From Set theory, X∪Y = X + Y - X∩Y.<br/>\n",
    "Therefore, Respondants who use only R = X - X∩Y (To be specific, this means respondants who use R and/or other languages but not Python. But for simplicity, we will call it - 'Respondants who use only R').<br/>\n",
    "Respondants who use only Python = Y - X∩Y"
   ]
  },
  {
   "cell_type": "code",
   "execution_count": 55,
   "metadata": {
    "collapsed": false
   },
   "outputs": [
    {
     "name": "stdout",
     "output_type": "stream",
     "text": [
      "% of all Respondants who use only R: 1.66006825939\n",
      "% of all Respondants who use only Python: 29.1549488055\n",
      "% of all Respondants who use both R and Python: 2.80136518771\n"
     ]
    }
   ],
   "source": [
    "print '% of all Respondants who use only R:',\n",
    "(df2017['RUser'].sum() - df2017['Both'].sum()) / (df2017['HaveWorkedLanguage'].notnull().sum()) * 100\n",
    "print '% of all Respondants who use only Python:', \n",
    "(df2017['PythonUser'].sum() - df2017['Both'].sum()) / (df2017['HaveWorkedLanguage'].notnull().sum()) * 100\n",
    "print '% of all Respondants who use both R and Python:', \n",
    "(df2017['Both'].sum()) / (df2017['HaveWorkedLanguage'].notnull().sum()) * 100"
   ]
  },
  {
   "cell_type": "code",
   "execution_count": 92,
   "metadata": {
    "collapsed": false
   },
   "outputs": [
    {
     "data": {
      "text/plain": [
       "['Respondent',\n",
       " 'Professional',\n",
       " 'ProgramHobby',\n",
       " 'Country',\n",
       " 'University',\n",
       " 'EmploymentStatus',\n",
       " 'FormalEducation',\n",
       " 'MajorUndergrad',\n",
       " 'HomeRemote',\n",
       " 'CompanySize',\n",
       " 'CompanyType',\n",
       " 'YearsProgram',\n",
       " 'YearsCodedJob',\n",
       " 'YearsCodedJobPast',\n",
       " 'DeveloperType',\n",
       " 'WebDeveloperType',\n",
       " 'MobileDeveloperType',\n",
       " 'NonDeveloperType',\n",
       " 'CareerSatisfaction',\n",
       " 'JobSatisfaction',\n",
       " 'ExCoderReturn',\n",
       " 'ExCoderNotForMe',\n",
       " 'ExCoderBalance',\n",
       " 'ExCoder10Years',\n",
       " 'ExCoderBelonged',\n",
       " 'ExCoderSkills',\n",
       " 'ExCoderWillNotCode',\n",
       " 'ExCoderActive',\n",
       " 'PronounceGIF',\n",
       " 'ProblemSolving',\n",
       " 'BuildingThings',\n",
       " 'LearningNewTech',\n",
       " 'BoringDetails',\n",
       " 'JobSecurity',\n",
       " 'DiversityImportant',\n",
       " 'AnnoyingUI',\n",
       " 'FriendsDevelopers',\n",
       " 'RightWrongWay',\n",
       " 'UnderstandComputers',\n",
       " 'SeriousWork',\n",
       " 'InvestTimeTools',\n",
       " 'WorkPayCare',\n",
       " 'KinshipDevelopers',\n",
       " 'ChallengeMyself',\n",
       " 'CompetePeers',\n",
       " 'ChangeWorld',\n",
       " 'JobSeekingStatus',\n",
       " 'HoursPerWeek',\n",
       " 'LastNewJob',\n",
       " 'AssessJobIndustry',\n",
       " 'AssessJobRole',\n",
       " 'AssessJobExp',\n",
       " 'AssessJobDept',\n",
       " 'AssessJobTech',\n",
       " 'AssessJobProjects',\n",
       " 'AssessJobCompensation',\n",
       " 'AssessJobOffice',\n",
       " 'AssessJobCommute',\n",
       " 'AssessJobRemote',\n",
       " 'AssessJobLeaders',\n",
       " 'AssessJobProfDevel',\n",
       " 'AssessJobDiversity',\n",
       " 'AssessJobProduct',\n",
       " 'AssessJobFinances',\n",
       " 'ImportantBenefits',\n",
       " 'ClickyKeys',\n",
       " 'JobProfile',\n",
       " 'ResumePrompted',\n",
       " 'LearnedHiring',\n",
       " 'ImportantHiringAlgorithms',\n",
       " 'ImportantHiringTechExp',\n",
       " 'ImportantHiringCommunication',\n",
       " 'ImportantHiringOpenSource',\n",
       " 'ImportantHiringPMExp',\n",
       " 'ImportantHiringCompanies',\n",
       " 'ImportantHiringTitles',\n",
       " 'ImportantHiringEducation',\n",
       " 'ImportantHiringRep',\n",
       " 'ImportantHiringGettingThingsDone',\n",
       " 'Currency',\n",
       " 'Overpaid',\n",
       " 'TabsSpaces',\n",
       " 'EducationImportant',\n",
       " 'EducationTypes',\n",
       " 'SelfTaughtTypes',\n",
       " 'TimeAfterBootcamp',\n",
       " 'CousinEducation',\n",
       " 'WorkStart',\n",
       " 'HaveWorkedLanguage',\n",
       " 'WantWorkLanguage',\n",
       " 'HaveWorkedFramework',\n",
       " 'WantWorkFramework',\n",
       " 'HaveWorkedDatabase',\n",
       " 'WantWorkDatabase',\n",
       " 'HaveWorkedPlatform',\n",
       " 'WantWorkPlatform',\n",
       " 'IDE',\n",
       " 'AuditoryEnvironment',\n",
       " 'Methodology',\n",
       " 'VersionControl',\n",
       " 'CheckInCode',\n",
       " 'ShipIt',\n",
       " 'OtherPeoplesCode',\n",
       " 'ProjectManagement',\n",
       " 'EnjoyDebugging',\n",
       " 'InTheZone',\n",
       " 'DifficultCommunication',\n",
       " 'CollaborateRemote',\n",
       " 'MetricAssess',\n",
       " 'EquipmentSatisfiedMonitors',\n",
       " 'EquipmentSatisfiedCPU',\n",
       " 'EquipmentSatisfiedRAM',\n",
       " 'EquipmentSatisfiedStorage',\n",
       " 'EquipmentSatisfiedRW',\n",
       " 'InfluenceInternet',\n",
       " 'InfluenceWorkstation',\n",
       " 'InfluenceHardware',\n",
       " 'InfluenceServers',\n",
       " 'InfluenceTechStack',\n",
       " 'InfluenceDeptTech',\n",
       " 'InfluenceVizTools',\n",
       " 'InfluenceDatabase',\n",
       " 'InfluenceCloud',\n",
       " 'InfluenceConsultants',\n",
       " 'InfluenceRecruitment',\n",
       " 'InfluenceCommunication',\n",
       " 'StackOverflowDescribes',\n",
       " 'StackOverflowSatisfaction',\n",
       " 'StackOverflowDevices',\n",
       " 'StackOverflowFoundAnswer',\n",
       " 'StackOverflowCopiedCode',\n",
       " 'StackOverflowJobListing',\n",
       " 'StackOverflowCompanyPage',\n",
       " 'StackOverflowJobSearch',\n",
       " 'StackOverflowNewQuestion',\n",
       " 'StackOverflowAnswer',\n",
       " 'StackOverflowMetaChat',\n",
       " 'StackOverflowAdsRelevant',\n",
       " 'StackOverflowAdsDistracting',\n",
       " 'StackOverflowModeration',\n",
       " 'StackOverflowCommunity',\n",
       " 'StackOverflowHelpful',\n",
       " 'StackOverflowBetter',\n",
       " 'StackOverflowWhatDo',\n",
       " 'StackOverflowMakeMoney',\n",
       " 'Gender',\n",
       " 'HighestEducationParents',\n",
       " 'Race',\n",
       " 'SurveyLong',\n",
       " 'QuestionsInteresting',\n",
       " 'QuestionsConfusing',\n",
       " 'InterestedAnswers',\n",
       " 'Salary',\n",
       " 'ExpectedSalary',\n",
       " 'RUser',\n",
       " 'PythonUser',\n",
       " 'Both',\n",
       " 'IsDataScientist']"
      ]
     },
     "execution_count": 92,
     "metadata": {},
     "output_type": "execute_result"
    }
   ],
   "source": [
    "# List of all columns \n",
    "list(df2017.columns)"
   ]
  },
  {
   "cell_type": "markdown",
   "metadata": {},
   "source": [
    "Let's do the same comparison for Data Scientists. There are two columns - 'DeveloperType' and 'NonDeveloperType' which contains information about Data Scientists. To be more broad based, I will consider professionals who term themselves as 'Data scientist', 'Machine learning specialist', 'Developer with a statistics or mathematics background' and 'Analyst or consultant' to be one and the same."
   ]
  },
  {
   "cell_type": "code",
   "execution_count": 101,
   "metadata": {
    "collapsed": true
   },
   "outputs": [],
   "source": [
    "# Create function for Data Scientist\n",
    "# Function for DeveloperType\n",
    "def DataScientist1(df):\n",
    "    return(df.apply(lambda x: True if ('Data scientist' in str(x).split('; ') or \n",
    "                                             'Machine learning specialist' in str(x).split('; ') or \n",
    "                                             'Developer with a statistics or mathematics background' \n",
    "                                             in str(x).split('; ')) else False))\n",
    "# Function for NonDeveloperType\n",
    "def DataScientist2(df):\n",
    "    return(df.apply(lambda x: True if ('Data scientist' in str(x).split('; ') or \n",
    "                                             'Analyst or consultant' \n",
    "                                             in str(x).split('; ')) else False))"
   ]
  },
  {
   "cell_type": "code",
   "execution_count": 109,
   "metadata": {
    "collapsed": false
   },
   "outputs": [],
   "source": [
    "df2017['IsDataScientist'] = (DataScientist1(df2017['DeveloperType'])) | (DataScientist2(df2017['NonDeveloperType']))"
   ]
  },
  {
   "cell_type": "code",
   "execution_count": 112,
   "metadata": {
    "collapsed": false
   },
   "outputs": [
    {
     "name": "stdout",
     "output_type": "stream",
     "text": [
      "Total number of Respondants who are Data Scientists: 8876\n"
     ]
    }
   ],
   "source": [
    "print 'Total number of Respondants who are Data Scientists:', df2017['IsDataScientist'].value_counts()[1]"
   ]
  },
  {
   "cell_type": "code",
   "execution_count": 113,
   "metadata": {
    "collapsed": true
   },
   "outputs": [],
   "source": [
    "# Perform the same operations for Respondants who are Data Scientists\n",
    "dfDataScientist2017 = df2017[df2017['IsDataScientist'] == True]"
   ]
  },
  {
   "cell_type": "code",
   "execution_count": 116,
   "metadata": {
    "collapsed": false
   },
   "outputs": [
    {
     "name": "stdout",
     "output_type": "stream",
     "text": [
      "% of Data Scientists who use only R: 4.85332514207\n",
      "% of Data Scientists who use only Python: 37.4289663646\n",
      "% of Data Scientists who use both R and Python: 9.24589156812\n"
     ]
    }
   ],
   "source": [
    "print '% of Data Scientists who use only R:',\n",
    "    (dfDataScientist2017['RUser'].sum() - dfDataScientist2017['Both'].sum()) / \n",
    "    (dfDataScientist2017['HaveWorkedLanguage'].notnull().sum()) * 100\n",
    "print '% of Data Scientists who use only Python:', \n",
    "    (dfDataScientist2017['PythonUser'].sum() - dfDataScientist2017['Both'].sum()) / \n",
    "    (dfDataScientist2017['HaveWorkedLanguage'].notnull().sum()) * 100\n",
    "print '% of Data Scientists who use both R and Python:', \n",
    "    (dfDataScientist2017['Both'].sum()) / (dfDataScientist2017['HaveWorkedLanguage'].notnull().sum()) * 100"
   ]
  },
  {
   "cell_type": "markdown",
   "metadata": {},
   "source": [
    "I expected to see more percentage of Data Scientists who use R compared to all respondants, but the % increase is negligible. It would be premature to conclude that Python is heavily preferred over R by Data Scientists, since it could be possible that the people who responded to this survey tend to generally prefer Python more, which is a classic case of selection bias.\n",
    "\n",
    "If we look at the latest Kdnuggets polls, the % share of R and Python among Data Scientists is almost equal.<br\\>\n",
    "https://www.kdnuggets.com/2017/05/poll-analytics-data-science-machine-learning-software-leaders.html"
   ]
  },
  {
   "cell_type": "markdown",
   "metadata": {},
   "source": [
    "# ** Question - 2 **"
   ]
  },
  {
   "cell_type": "code",
   "execution_count": 178,
   "metadata": {
    "collapsed": true
   },
   "outputs": [],
   "source": [
    "# Find count of all Languages used by Data Scientists\n",
    "def UniqueCount(df):\n",
    "    flattenCount = [x for a in [str(x).split(\"; \") for x in df] for x in a]\n",
    "    flattenCount = pd.Series(flattenCount)\n",
    "    flattenCount.replace('nan', np.NaN, inplace = True)\n",
    "    return flattenCount"
   ]
  },
  {
   "cell_type": "code",
   "execution_count": 118,
   "metadata": {
    "collapsed": false
   },
   "outputs": [
    {
     "data": {
      "text/plain": [
       "SQL               3677\n",
       "JavaScript        3521\n",
       "Python            3039\n",
       "Java              2583\n",
       "C#                2076\n",
       "C++               1848\n",
       "PHP               1596\n",
       "C                 1430\n",
       "R                  918\n",
       "Matlab             570\n",
       "Ruby               553\n",
       "VBA                546\n",
       "TypeScript         498\n",
       "VB.NET             459\n",
       "Scala              452\n",
       "Perl               448\n",
       "Objective-C        397\n",
       "Assembly           386\n",
       "Swift              357\n",
       "Go                 343\n",
       "Visual Basic 6     259\n",
       "Groovy             243\n",
       "Lua                229\n",
       "CoffeeScript       212\n",
       "Haskell            174\n",
       "F#                 122\n",
       "Clojure            115\n",
       "Rust                99\n",
       "Smalltalk           97\n",
       "Common Lisp         92\n",
       "Erlang              71\n",
       "Elixir              68\n",
       "Julia               64\n",
       "Dart                40\n",
       "Hack                30\n",
       "dtype: int64"
      ]
     },
     "execution_count": 118,
     "metadata": {},
     "output_type": "execute_result"
    }
   ],
   "source": [
    "UniqueCount(dfDataScientist2017['HaveWorkedLanguage']).value_counts()"
   ]
  },
  {
   "cell_type": "code",
   "execution_count": 119,
   "metadata": {
    "collapsed": false
   },
   "outputs": [
    {
     "data": {
      "image/png": "[encoded data removed]",
      "text/plain": [
       "<matplotlib.figure.Figure at 0x11bf0bd10>"
      ]
     },
     "metadata": {},
     "output_type": "display_data"
    }
   ],
   "source": [
    "# Plot 10 most used languages\n",
    "UniqueCount(dfDataScientist2017['HaveWorkedLanguage']).value_counts()[0:10].iloc[::-1].plot(kind = 'barh', color = 'b')\n",
    "plt.style.use('ggplot')"
   ]
  },
  {
   "cell_type": "markdown",
   "metadata": {},
   "source": [
    "No surprises here! SQL is the most popular language among Data Scientists.<br\\>\n",
    "Besides SQL and Python, JavaScript and Java are also pretty popular."
   ]
  },
  {
   "cell_type": "markdown",
   "metadata": {},
   "source": [
    "# ** Question - 3 **"
   ]
  },
  {
   "cell_type": "code",
   "execution_count": 120,
   "metadata": {
    "collapsed": false
   },
   "outputs": [
    {
     "data": {
      "text/plain": [
       "Bachelor's degree                                                    42.047400\n",
       "Master's degree                                                      21.678471\n",
       "Some college/university study without earning a bachelor's degree    15.817637\n",
       "Secondary school                                                     11.495953\n",
       "Doctoral degree                                                       2.545143\n",
       "I prefer not to answer                                                2.157923\n",
       "Primary/elementary school                                             2.037282\n",
       "Professional degree                                                   1.391267\n",
       "I never completed any formal education                                0.828923\n",
       "Name: FormalEducation, dtype: float64"
      ]
     },
     "execution_count": 120,
     "metadata": {},
     "output_type": "execute_result"
    }
   ],
   "source": [
    "# All Respondants\n",
    "df2017['FormalEducation'].value_counts(normalize = True) * 100"
   ]
  },
  {
   "cell_type": "code",
   "execution_count": 121,
   "metadata": {
    "collapsed": false
   },
   "outputs": [
    {
     "data": {
      "text/plain": [
       "Bachelor's degree                                                    39.984227\n",
       "Master's degree                                                      31.478143\n",
       "Some college/university study without earning a bachelor's degree    12.314105\n",
       "Doctoral degree                                                       7.559712\n",
       "Secondary school                                                      4.337539\n",
       "Professional degree                                                   1.644885\n",
       "I prefer not to answer                                                1.205498\n",
       "I never completed any formal education                                0.946372\n",
       "Primary/elementary school                                             0.529518\n",
       "Name: FormalEducation, dtype: float64"
      ]
     },
     "execution_count": 121,
     "metadata": {},
     "output_type": "execute_result"
    }
   ],
   "source": [
    "# Only Data Scientists\n",
    "dfDataScientist2017['FormalEducation'].value_counts(normalize = True) * 100"
   ]
  },
  {
   "cell_type": "markdown",
   "metadata": {},
   "source": [
    "Data Scientists have a higher percentage of Master's and PhD's compared to all developers."
   ]
  },
  {
   "cell_type": "markdown",
   "metadata": {},
   "source": [
    "# ** Question - 4 **"
   ]
  },
  {
   "cell_type": "code",
   "execution_count": 122,
   "metadata": {
    "collapsed": false
   },
   "outputs": [
    {
     "data": {
      "text/html": [
       "<div>\n",
       "<table border=\"1\" class=\"dataframe\">\n",
       "  <thead>\n",
       "    <tr style=\"text-align: right;\">\n",
       "      <th></th>\n",
       "      <th>count</th>\n",
       "      <th>median</th>\n",
       "      <th>mean</th>\n",
       "    </tr>\n",
       "    <tr>\n",
       "      <th>Country</th>\n",
       "      <th></th>\n",
       "      <th></th>\n",
       "      <th></th>\n",
       "    </tr>\n",
       "  </thead>\n",
       "  <tbody>\n",
       "    <tr>\n",
       "      <th>United States</th>\n",
       "      <td>636</td>\n",
       "      <td>100000.000000</td>\n",
       "      <td>100755.710787</td>\n",
       "    </tr>\n",
       "    <tr>\n",
       "      <th>United Kingdom</th>\n",
       "      <td>204</td>\n",
       "      <td>51250.000000</td>\n",
       "      <td>58945.348175</td>\n",
       "    </tr>\n",
       "    <tr>\n",
       "      <th>Germany</th>\n",
       "      <td>169</td>\n",
       "      <td>53763.440860</td>\n",
       "      <td>54300.318127</td>\n",
       "    </tr>\n",
       "    <tr>\n",
       "      <th>India</th>\n",
       "      <td>116</td>\n",
       "      <td>8068.640304</td>\n",
       "      <td>11941.960404</td>\n",
       "    </tr>\n",
       "    <tr>\n",
       "      <th>Canada</th>\n",
       "      <td>105</td>\n",
       "      <td>56818.181818</td>\n",
       "      <td>60779.906205</td>\n",
       "    </tr>\n",
       "    <tr>\n",
       "      <th>France</th>\n",
       "      <td>81</td>\n",
       "      <td>43010.752688</td>\n",
       "      <td>44387.694146</td>\n",
       "    </tr>\n",
       "    <tr>\n",
       "      <th>Australia</th>\n",
       "      <td>40</td>\n",
       "      <td>71590.909091</td>\n",
       "      <td>75714.696970</td>\n",
       "    </tr>\n",
       "    <tr>\n",
       "      <th>Poland</th>\n",
       "      <td>40</td>\n",
       "      <td>22222.222222</td>\n",
       "      <td>22689.302469</td>\n",
       "    </tr>\n",
       "    <tr>\n",
       "      <th>Netherlands</th>\n",
       "      <td>39</td>\n",
       "      <td>53763.440860</td>\n",
       "      <td>59076.371657</td>\n",
       "    </tr>\n",
       "    <tr>\n",
       "      <th>Brazil</th>\n",
       "      <td>38</td>\n",
       "      <td>19108.280255</td>\n",
       "      <td>20175.219614</td>\n",
       "    </tr>\n",
       "  </tbody>\n",
       "</table>\n",
       "</div>"
      ],
      "text/plain": [
       "                count         median           mean\n",
       "Country                                            \n",
       "United States     636  100000.000000  100755.710787\n",
       "United Kingdom    204   51250.000000   58945.348175\n",
       "Germany           169   53763.440860   54300.318127\n",
       "India             116    8068.640304   11941.960404\n",
       "Canada            105   56818.181818   60779.906205\n",
       "France             81   43010.752688   44387.694146\n",
       "Australia          40   71590.909091   75714.696970\n",
       "Poland             40   22222.222222   22689.302469\n",
       "Netherlands        39   53763.440860   59076.371657\n",
       "Brazil             38   19108.280255   20175.219614"
      ]
     },
     "execution_count": 122,
     "metadata": {},
     "output_type": "execute_result"
    }
   ],
   "source": [
    "# Compare Salary stats per country for Data Scientist.\n",
    "dfDataScientist2017.groupby('Country')['Salary'].agg(['count','median','mean']).sort_values(['count','median','mean']\n",
    "                                                                        , ascending = [False,False,False])[0:10]"
   ]
  },
  {
   "cell_type": "markdown",
   "metadata": {},
   "source": [
    "It is difficult to compare salaries from different countries without taking into account the cost of living. Therefore, we will only consider median salary for respondants in the United States for future problems."
   ]
  },
  {
   "cell_type": "markdown",
   "metadata": {},
   "source": [
    "To answer the next four questions we need data from 2011-2017. Since they are in different formats, we need to clean up the individual datasets for each year."
   ]
  },
  {
   "cell_type": "code",
   "execution_count": 124,
   "metadata": {
    "collapsed": false
   },
   "outputs": [],
   "source": [
    "# 2011 data\n",
    "df2011 = pd.read_csv('/Users/mohitravi/Desktop/Stack Overflow/2011 Stack Overflow Survey Results.csv')"
   ]
  },
  {
   "cell_type": "code",
   "execution_count": 126,
   "metadata": {
    "collapsed": false
   },
   "outputs": [
    {
     "data": {
      "text/plain": [
       "['What Country or Region do you live in?',\n",
       " 'Which US State or Territory do you live in?',\n",
       " 'How old are you?',\n",
       " 'How many years of IT/Programming experience do you have?',\n",
       " 'How would you best describe the industry you work in?',\n",
       " 'Which best describes the size of your company?',\n",
       " 'Which of the following best describes your occupation?',\n",
       " 'How likely is it that a recommendation you make will be acted upon?',\n",
       " 'What is your involvement in purchasing? You can choose more than 1.',\n",
       " 'Unnamed: 9',\n",
       " 'Unnamed: 10',\n",
       " 'Unnamed: 11',\n",
       " 'Unnamed: 12',\n",
       " 'Unnamed: 13',\n",
       " 'Unnamed: 14',\n",
       " 'What types of purchases are you involved in?',\n",
       " 'Unnamed: 16',\n",
       " 'Unnamed: 17',\n",
       " 'Unnamed: 18',\n",
       " 'Unnamed: 19',\n",
       " 'Unnamed: 20',\n",
       " 'What is your budget for outside expenditures (hardware, software, consulting, etc) for 2011?',\n",
       " 'Unnamed: 22',\n",
       " 'Unnamed: 23',\n",
       " 'Unnamed: 24',\n",
       " 'Unnamed: 25',\n",
       " 'Unnamed: 26',\n",
       " 'Unnamed: 27',\n",
       " 'Unnamed: 28',\n",
       " 'What type of project are you developing?',\n",
       " 'Which languages are you proficient in?',\n",
       " 'Unnamed: 31',\n",
       " 'Unnamed: 32',\n",
       " 'Unnamed: 33',\n",
       " 'Unnamed: 34',\n",
       " 'Unnamed: 35',\n",
       " 'Unnamed: 36',\n",
       " 'Unnamed: 37',\n",
       " 'Unnamed: 38',\n",
       " 'Unnamed: 39',\n",
       " 'Unnamed: 40',\n",
       " 'Unnamed: 41',\n",
       " 'Unnamed: 42',\n",
       " 'What operating system do you use the most?',\n",
       " 'Please rate your job/career satisfaction',\n",
       " 'Including bonus, what is your annual compensation in USD?',\n",
       " 'Which technology products do you own? (You can choose more than one)',\n",
       " 'Unnamed: 47',\n",
       " 'Unnamed: 48',\n",
       " 'Unnamed: 49',\n",
       " 'Unnamed: 50',\n",
       " 'Unnamed: 51',\n",
       " 'Unnamed: 52',\n",
       " 'Unnamed: 53',\n",
       " 'Unnamed: 54',\n",
       " 'Unnamed: 55',\n",
       " 'Unnamed: 56',\n",
       " 'Unnamed: 57',\n",
       " 'Unnamed: 58',\n",
       " 'Unnamed: 59',\n",
       " 'Unnamed: 60',\n",
       " 'Unnamed: 61',\n",
       " 'Unnamed: 62',\n",
       " 'In the last 12 months, how much money have you spent on personal technology-related purchases? ',\n",
       " 'Which of our sites do you frequent most?']"
      ]
     },
     "execution_count": 126,
     "metadata": {},
     "output_type": "execute_result"
    }
   ],
   "source": [
    "list(df2011.columns)"
   ]
  },
  {
   "cell_type": "code",
   "execution_count": 127,
   "metadata": {
    "collapsed": false
   },
   "outputs": [
    {
     "data": {
      "text/plain": [
       "array(['Response', 'Web Application Developer', 'Server Programmer',\n",
       "       'Student', 'Executive (VP of Eng, CTO, CIO, etc.)',\n",
       "       'Desktop Application Developer', nan,\n",
       "       'IT Staff / System Administrator', 'Database Administrator',\n",
       "       'Manager of Developers or Team Leader', 'Other',\n",
       "       'Embedded Application Developer', 'Kernel / Driver Developer',\n",
       "       'Systems Analyst', 'IT Manager'], dtype=object)"
      ]
     },
     "execution_count": 127,
     "metadata": {},
     "output_type": "execute_result"
    }
   ],
   "source": [
    "df2011['Which of the following best describes your occupation?'].unique()"
   ]
  },
  {
   "cell_type": "markdown",
   "metadata": {},
   "source": [
    "Data Scientist title did not exist in 2011. We can ignore 2011 data from the analysis."
   ]
  },
  {
   "cell_type": "code",
   "execution_count": 128,
   "metadata": {
    "collapsed": true
   },
   "outputs": [],
   "source": [
    "# 2012 data\n",
    "df2012 = pd.read_csv('/Users/mohitravi/Desktop/Stack Overflow/2012 Stack Overflow Survey Results.csv')"
   ]
  },
  {
   "cell_type": "code",
   "execution_count": 130,
   "metadata": {
    "collapsed": false
   },
   "outputs": [
    {
     "data": {
      "text/plain": [
       "array(['Response', 'Server Programmer', 'Embedded Application Developer',\n",
       "       'Web Application Developer', 'Student', nan,\n",
       "       'Desktop Application Developer', 'Systems Analyst',\n",
       "       'IT Staff / System Administrator', 'Other',\n",
       "       'Manager of Developers or Team Leader', \"I don't work in tech\",\n",
       "       'Executive (VP of Eng, CTO, CIO, etc.)', 'IT Manager',\n",
       "       'Database Administrator', 'Kernel / Driver Developer'], dtype=object)"
      ]
     },
     "execution_count": 130,
     "metadata": {},
     "output_type": "execute_result"
    }
   ],
   "source": [
    "df2012['Which of the following best describes your occupation?'].unique()"
   ]
  },
  {
   "cell_type": "code",
   "execution_count": 131,
   "metadata": {
    "collapsed": false
   },
   "outputs": [
    {
     "name": "stderr",
     "output_type": "stream",
     "text": [
      "/Users/mohitravi/anaconda/lib/python2.7/site-packages/numpy/lib/arraysetops.py:200: FutureWarning: numpy not_equal will not check object identity in the future. The comparison did not return the same result as suggested by the identity (`is`)) and will change.\n",
      "  flag = np.concatenate(([True], aux[1:] != aux[:-1]))\n"
     ]
    },
    {
     "data": {
      "text/plain": [
       "array([nan, 'C', 'C#', 'C++', 'CSS', 'HTML5', 'Java', 'JavaScript', 'None',\n",
       "       'Objective-C', 'PHP', 'Perl', 'Python', 'Ruby', 'SQL'], dtype=object)"
      ]
     },
     "execution_count": 131,
     "metadata": {},
     "output_type": "execute_result"
    }
   ],
   "source": [
    "np.unique(df2012[['Which languages are you proficient in?','Unnamed: 23',\n",
    " 'Unnamed: 24',\n",
    " 'Unnamed: 25',\n",
    " 'Unnamed: 26',\n",
    " 'Unnamed: 27',\n",
    " 'Unnamed: 28',\n",
    " 'Unnamed: 29',\n",
    " 'Unnamed: 30',\n",
    " 'Unnamed: 31',\n",
    " 'Unnamed: 32',\n",
    " 'Unnamed: 33',\n",
    " 'Unnamed: 34',\n",
    " 'Unnamed: 35']].values)"
   ]
  },
  {
   "cell_type": "markdown",
   "metadata": {},
   "source": [
    "There is no column for R programming language. Maybe it wasn't popular back in 2012. Ignore 2012 data."
   ]
  },
  {
   "cell_type": "code",
   "execution_count": 132,
   "metadata": {
    "collapsed": false
   },
   "outputs": [
    {
     "name": "stderr",
     "output_type": "stream",
     "text": [
      "/Users/mohitravi/anaconda/lib/python2.7/site-packages/IPython/core/interactiveshell.py:2717: DtypeWarning: Columns (46,48,62) have mixed types. Specify dtype option on import or set low_memory=False.\n",
      "  interactivity=interactivity, compiler=compiler, result=result)\n"
     ]
    }
   ],
   "source": [
    "# 2013 data\n",
    "df2013 = pd.read_csv('/Users/mohitravi/Desktop/Stack Overflow/2013 Stack Overflow Survey Responses.csv')"
   ]
  },
  {
   "cell_type": "code",
   "execution_count": 134,
   "metadata": {
    "collapsed": false
   },
   "outputs": [
    {
     "data": {
      "text/plain": [
       "array(['Response', 'Enterprise Level Services', 'Back-End Web Developer',\n",
       "       nan, 'Desktop Software Developer', 'Full-Stack Web Developer',\n",
       "       'Student', 'Manager of Developers or Team Leader',\n",
       "       'Executive (VP of Eng, CTO, CIO, etc.)',\n",
       "       'Mobile Application Developer', 'IT Staff / System Administrator',\n",
       "       \"I don't work in tech\", 'Other', 'Front-End Web Developer',\n",
       "       'Database Administrator', 'Embedded Application Developer'], dtype=object)"
      ]
     },
     "execution_count": 134,
     "metadata": {},
     "output_type": "execute_result"
    }
   ],
   "source": [
    "df2013['Which of the following best describes your occupation?'].unique()"
   ]
  },
  {
   "cell_type": "code",
   "execution_count": 138,
   "metadata": {
    "collapsed": false
   },
   "outputs": [
    {
     "data": {
      "text/plain": [
       "False"
      ]
     },
     "execution_count": 138,
     "metadata": {},
     "output_type": "execute_result"
    }
   ],
   "source": [
    "'R' in np.unique(df2013[['Which of the following languages or technologies have you used significantly in the past year?',\n",
    " 'Unnamed: 57',\n",
    " 'Unnamed: 58',\n",
    " 'Unnamed: 59',\n",
    " 'Unnamed: 60',\n",
    " 'Unnamed: 61',\n",
    " 'Unnamed: 62',\n",
    " 'Unnamed: 63',\n",
    " 'Unnamed: 64',\n",
    " 'Unnamed: 65',\n",
    " 'Unnamed: 66',\n",
    " 'Unnamed: 67',\n",
    "'Unnamed: 68']].values)"
   ]
  },
  {
   "cell_type": "markdown",
   "metadata": {},
   "source": [
    "Neither Data Scientist title nor R progamming langauge has a separate column in 2013 results. Ignore 2013 results."
   ]
  },
  {
   "cell_type": "code",
   "execution_count": 139,
   "metadata": {
    "collapsed": true
   },
   "outputs": [],
   "source": [
    "# 2014 data\n",
    "df2014 = pd.read_csv('/Users/mohitravi/Desktop/Stack Overflow/2014 Stack Overflow Survey Responses.csv')"
   ]
  },
  {
   "cell_type": "code",
   "execution_count": 141,
   "metadata": {
    "collapsed": false
   },
   "outputs": [
    {
     "data": {
      "text/plain": [
       "array(['Response', 'Back-End Web Developer', 'Desktop Software Developer',\n",
       "       'Student', 'Full-Stack Web Developer', 'Database Administrator',\n",
       "       'IT Staff / System Administrator', nan, \"I don't work in tech\",\n",
       "       'Enterprise Level Services', 'Front-End Web Developer',\n",
       "       'Manager of Developers or Team Leader', 'Other', 'DevOps',\n",
       "       'Mobile Application Developer', 'Embedded Application Developer',\n",
       "       'Executive (VP of Eng, CTO, CIO, etc.)'], dtype=object)"
      ]
     },
     "execution_count": 141,
     "metadata": {},
     "output_type": "execute_result"
    }
   ],
   "source": [
    "df2014['Which of the following best describes your occupation?'].unique()"
   ]
  },
  {
   "cell_type": "code",
   "execution_count": 142,
   "metadata": {
    "collapsed": false
   },
   "outputs": [
    {
     "data": {
      "text/plain": [
       "array([nan, 'C', 'C#', 'C++', 'Java', 'JavaScript', 'Node.js',\n",
       "       'Objective-C', 'PHP', 'Python', 'Ruby', 'SQL'], dtype=object)"
      ]
     },
     "execution_count": 142,
     "metadata": {},
     "output_type": "execute_result"
    }
   ],
   "source": [
    "np.unique(df2014[['Which of the following languages or technologies have you used significantly in the past year?',\n",
    " 'Unnamed: 43',\n",
    " 'Unnamed: 44',\n",
    " 'Unnamed: 45',\n",
    " 'Unnamed: 46',\n",
    " 'Unnamed: 47',\n",
    " 'Unnamed: 48',\n",
    " 'Unnamed: 49',\n",
    " 'Unnamed: 50',\n",
    " 'Unnamed: 51',\n",
    " 'Unnamed: 52']].values)"
   ]
  },
  {
   "cell_type": "markdown",
   "metadata": {},
   "source": [
    "Well, this is disappointing! Neither Data Scientist title nor R progamming langauge has a separate column in 2014 results too. By 2014, Data Scientist as a job title started becoming more prevelant, but it was not captured in the StackOverflow survey."
   ]
  },
  {
   "cell_type": "code",
   "execution_count": 423,
   "metadata": {
    "collapsed": false
   },
   "outputs": [],
   "source": [
    "# 2015 data\n",
    "df2015 = pd.read_csv('/Users/mohitravi/Desktop/Stack Overflow/2015 Stack Overflow Developer Survey Responses.csv', header = None, skiprows = 1)"
   ]
  },
  {
   "cell_type": "code",
   "execution_count": 424,
   "metadata": {
    "collapsed": true
   },
   "outputs": [],
   "source": [
    "# Convert first row to column header\n",
    "df2015.columns = df2015.iloc[0]\n",
    "df2015.drop(0, inplace = True)"
   ]
  },
  {
   "cell_type": "code",
   "execution_count": 425,
   "metadata": {
    "collapsed": false,
    "scrolled": false
   },
   "outputs": [
    {
     "data": {
      "text/plain": [
       "['Country',\n",
       " 'Age',\n",
       " 'Gender',\n",
       " 'Tabs or Spaces',\n",
       " 'Years IT / Programming Experience',\n",
       " 'Occupation',\n",
       " 'Desktop Operating System',\n",
       " 'Desktop Operating System: write-in',\n",
       " 'Current Lang & Tech: Android',\n",
       " 'Current Lang & Tech: Arduino',\n",
       " 'Current Lang & Tech: AngularJS',\n",
       " 'Current Lang & Tech: C',\n",
       " 'Current Lang & Tech: C++',\n",
       " 'Current Lang & Tech: C++11',\n",
       " 'Current Lang & Tech: C#',\n",
       " 'Current Lang & Tech: Cassandra',\n",
       " 'Current Lang & Tech: CoffeeScript',\n",
       " 'Current Lang & Tech: Cordova',\n",
       " 'Current Lang & Tech: Clojure',\n",
       " 'Current Lang & Tech: Cloud',\n",
       " 'Current Lang & Tech: Dart',\n",
       " 'Current Lang & Tech: F#',\n",
       " 'Current Lang & Tech: Go',\n",
       " 'Current Lang & Tech: Hadoop',\n",
       " 'Current Lang & Tech: Haskell',\n",
       " 'Current Lang & Tech: iOS',\n",
       " 'Current Lang & Tech: Java',\n",
       " 'Current Lang & Tech: JavaScript',\n",
       " 'Current Lang & Tech: LAMP',\n",
       " 'Current Lang & Tech: Matlab',\n",
       " 'Current Lang & Tech: MongoDB',\n",
       " 'Current Lang & Tech: Node.js',\n",
       " 'Current Lang & Tech: Objective-C',\n",
       " 'Current Lang & Tech: Perl',\n",
       " 'Current Lang & Tech: PHP',\n",
       " 'Current Lang & Tech: Python',\n",
       " 'Current Lang & Tech: R',\n",
       " 'Current Lang & Tech: Redis',\n",
       " 'Current Lang & Tech: Ruby',\n",
       " 'Current Lang & Tech: Rust',\n",
       " 'Current Lang & Tech: Salesforce',\n",
       " 'Current Lang & Tech: Scala',\n",
       " 'Current Lang & Tech: Sharepoint',\n",
       " 'Current Lang & Tech: Spark',\n",
       " 'Current Lang & Tech: SQL',\n",
       " 'Current Lang & Tech: SQL Server',\n",
       " 'Current Lang & Tech: Swift',\n",
       " 'Current Lang & Tech: Visual Basic',\n",
       " 'Current Lang & Tech: Windows Phone',\n",
       " 'Current Lang & Tech: Wordpress',\n",
       " 'Current Lang & Tech: Write-In',\n",
       " 'Future Lang & Tech: Android',\n",
       " 'Future Lang & Tech: Arduino',\n",
       " 'Future Lang & Tech: AngularJS',\n",
       " 'Future Lang & Tech: C',\n",
       " 'Future Lang & Tech: C++',\n",
       " 'Future Lang & Tech: C++11',\n",
       " 'Future Lang & Tech: C#',\n",
       " 'Future Lang & Tech: Cassandra',\n",
       " 'Future Lang & Tech: CoffeeScript',\n",
       " 'Future Lang & Tech: Cordova',\n",
       " 'Future Lang & Tech: Clojure',\n",
       " 'Future Lang & Tech: Cloud',\n",
       " 'Future Lang & Tech: Dart',\n",
       " 'Future Lang & Tech: F#',\n",
       " 'Future Lang & Tech: Go',\n",
       " 'Future Lang & Tech: Hadoop',\n",
       " 'Future Lang & Tech: Haskell',\n",
       " 'Future Lang & Tech: iOS',\n",
       " 'Future Lang & Tech: Java',\n",
       " 'Future Lang & Tech: JavaScript',\n",
       " 'Future Lang & Tech: LAMP',\n",
       " 'Future Lang & Tech: Matlab',\n",
       " 'Future Lang & Tech: MongoDB',\n",
       " 'Future Lang & Tech: Node.js',\n",
       " 'Future Lang & Tech: Objective-C',\n",
       " 'Future Lang & Tech: Perl',\n",
       " 'Future Lang & Tech: PHP',\n",
       " 'Future Lang & Tech: Python',\n",
       " 'Future Lang & Tech: R',\n",
       " 'Future Lang & Tech: Redis',\n",
       " 'Future Lang & Tech: Ruby',\n",
       " 'Future Lang & Tech: Rust',\n",
       " 'Future Lang & Tech: Salesforce',\n",
       " 'Future Lang & Tech: Scala',\n",
       " 'Future Lang & Tech: Sharepoint',\n",
       " 'Future Lang & Tech: Spark',\n",
       " 'Future Lang & Tech: SQL',\n",
       " 'Future Lang & Tech: SQL Server',\n",
       " 'Future Lang & Tech: Swift',\n",
       " 'Future Lang & Tech: Visual Basic',\n",
       " 'Future Lang & Tech: Windows Phone',\n",
       " 'Future Lang & Tech: Wordpress',\n",
       " 'Future Lang & Tech: Write-In',\n",
       " 'Training & Education: No formal training',\n",
       " 'Training & Education: On the job',\n",
       " 'Training & Education: Boot camp or night school',\n",
       " 'Training & Education: Online Class',\n",
       " 'Training & Education: Mentorship',\n",
       " 'Training & Education: Industry certification',\n",
       " 'Training & Education: Some college, but no CS degree',\n",
       " 'Training & Education: BS in CS',\n",
       " 'Training & Education: Masters in CS',\n",
       " 'Training & Education: PhD in CS',\n",
       " 'Training & Education: Other',\n",
       " 'Compensation',\n",
       " 'Compensation: midpoint',\n",
       " 'Employment Status',\n",
       " 'Industry',\n",
       " 'Job Satisfaction',\n",
       " 'Purchasing Power',\n",
       " 'Remote Status',\n",
       " 'Changed Jobs in last 12 Months',\n",
       " 'Open to new job opportunities',\n",
       " 'Most important aspect of new job opportunity: Salary',\n",
       " 'Most important aspect of new job opportunity: Equity',\n",
       " 'Most important aspect of new job opportunity: Important decisions',\n",
       " 'Most important aspect of new job opportunity: Health insurance',\n",
       " 'Most important aspect of new job opportunity: Industry',\n",
       " 'Most important aspect of new job opportunity: Tech stack',\n",
       " 'Most important aspect of new job opportunity: Company size',\n",
       " 'Most important aspect of new job opportunity: Company stage',\n",
       " 'Most important aspect of new job opportunity: Work - Life balance',\n",
       " 'Most important aspect of new job opportunity: Advancement',\n",
       " 'Most important aspect of new job opportunity: Job title',\n",
       " 'Most important aspect of new job opportunity: Office location',\n",
       " 'Most important aspect of new job opportunity: Quality of colleagues',\n",
       " 'Most important aspect of new job opportunity: Company culture',\n",
       " 'Most important aspect of new job opportunity: Company reputation',\n",
       " 'Most important aspect of new job opportunity: Building something that matters',\n",
       " 'Most important aspect of new job opportunity: Remote working',\n",
       " 'Most important aspect of new job opportunity: Flexible work options',\n",
       " 'How important is remote when evaluating new job opportunity?',\n",
       " 'Most annoying about job search: Finding time',\n",
       " \"Most annoying about job search: Finding job I'm qualified for\",\n",
       " 'Most annoying about job search: Finding interesting job',\n",
       " 'Most annoying about job search: Interesting companies rarely respond',\n",
       " 'Most annoying about job search: Writing and updating CV',\n",
       " 'Most annoying about job search: Taking time off work to interview',\n",
       " 'Most annoying about job search: The Interview',\n",
       " 'How often contacted by recruiters',\n",
       " 'Perception of recruiter contact',\n",
       " 'Perception of contact form: Email',\n",
       " 'Perception of contact form: LinkedIn',\n",
       " 'Perception of contact form: Xing',\n",
       " 'Perception of contact form: Phone',\n",
       " 'Perception of contact form: Stack Overflow Careers',\n",
       " 'Perception of contact form: Twitter',\n",
       " 'Perception of contact form: Facebook',\n",
       " 'Appealing message traits: Message is personalized',\n",
       " 'Appealing message traits: Code or projects mentioned',\n",
       " 'Appealing message traits: Stack Overflow activity mentioned',\n",
       " 'Appealing message traits: Team described',\n",
       " 'Appealing message traits: Company culture described',\n",
       " 'Appealing message traits: Salary information',\n",
       " 'Appealing message traits: Benefits & Perks',\n",
       " 'Appealing message traits: Stack Overflow Company Page',\n",
       " 'Most urgent info about job opportunity: Salary',\n",
       " 'Most urgent info about job opportunity: Benefits',\n",
       " 'Most urgent info about job opportunity: Company name',\n",
       " 'Most urgent info about job opportunity: Tech stack',\n",
       " 'Most urgent info about job opportunity: Office location',\n",
       " 'Most urgent info about job opportunity: Job title',\n",
       " 'Most urgent info about job opportunity: Colleagues',\n",
       " 'Most urgent info about job opportunity: Product details',\n",
       " 'Who do you want to communicate with about a new job opportunity: Headhunter',\n",
       " 'Who do you want to communicate with about a new job opportunity: In-house recruiter',\n",
       " 'Who do you want to communicate with about a new job opportunity: In-house tech recruiter',\n",
       " 'Who do you want to communicate with about a new job opportunity: Manager',\n",
       " 'Who do you want to communicate with about a new job opportunity: Developer',\n",
       " 'How can companies improve interview process: More live code',\n",
       " 'How can companies improve interview process: Flexible interview schedule',\n",
       " 'How can companies improve interview process: Remote interviews',\n",
       " 'How can companies improve interview process: Introduce me to boss',\n",
       " 'How can companies improve interview process: Introduce me to team',\n",
       " 'How can companies improve interview process: Gimme coffee',\n",
       " 'How can companies improve interview process: Show me workplace',\n",
       " 'How can companies improve interview process: Fewer brainteasers',\n",
       " 'How can companies improve interview process: Better preparation',\n",
       " 'Why try Stack Overflow Careers: No spam',\n",
       " 'Why try Stack Overflow Careers: Jobs site for programmers',\n",
       " 'Why try Stack Overflow Careers: Selection of revelant jobs',\n",
       " 'Why try Stack Overflow Careers: Showcase Stack Overflow activity',\n",
       " 'Why try Stack Overflow Careers: Jobs are on Stack Overflow',\n",
       " 'Why try Stack Overflow Careers: Other',\n",
       " 'How many caffeinated beverages per day?',\n",
       " 'How many hours programming as hobby per week?',\n",
       " 'How frequently land on or read Stack Overflow',\n",
       " 'Preferred text editor',\n",
       " 'Preferred text editor: write-in',\n",
       " 'Prefered IDE theme',\n",
       " 'Source control used: Git',\n",
       " 'Source control used: Mercurial',\n",
       " 'Source control used: SVN',\n",
       " 'Source control used: CVS',\n",
       " 'Source control used: Perforce',\n",
       " 'Source control used: TFS',\n",
       " 'Source control used: DCVS',\n",
       " 'Source control used: Bitkeeper',\n",
       " 'Source control used: Legacy / Custom',\n",
       " \"Source control used: I don't use source control\",\n",
       " 'Source control used: write-in',\n",
       " 'Prefered Source Control',\n",
       " 'Prefered Source Control: write-in',\n",
       " 'Why use Stack Overflow: Help for job',\n",
       " 'Why use Stack Overflow: To give help',\n",
       " \"Why use Stack Overflow: Can't do job without it\",\n",
       " 'Why use Stack Overflow: Maintain online presence',\n",
       " 'Why use Stack Overflow: Demonstrate expertise',\n",
       " 'Why use Stack Overflow: Communicate with others',\n",
       " 'Why use Stack Overflow: Receive help on personal projects',\n",
       " 'Why use Stack Overflow: Love to learn',\n",
       " \"Why use Stack Overflow: I don't use Stack Overflow\",\n",
       " \"How often are Stack Overflow's answers helpful\",\n",
       " 'Why answer: Help a programmer in need',\n",
       " 'Why answer: Help future programmers',\n",
       " 'Why answer: Demonstrate expertise',\n",
       " 'Why answer: Self promotion',\n",
       " 'Why answer: Sense of responsibility to developers',\n",
       " 'Why answer: No idea',\n",
       " \"Why answer: I don't answer and I don't want to\",\n",
       " \"Why answer: I don't answer but I want to\"]"
      ]
     },
     "execution_count": 425,
     "metadata": {},
     "output_type": "execute_result"
    }
   ],
   "source": [
    "list(df2015.columns)"
   ]
  },
  {
   "cell_type": "code",
   "execution_count": 146,
   "metadata": {
    "collapsed": false
   },
   "outputs": [
    {
     "data": {
      "text/plain": [
       "array(['Back-end web developer',\n",
       "       'Business intelligence or data warehousing expert',\n",
       "       'Data scientist', 'Database administrator', 'Designer',\n",
       "       'Desktop developer',\n",
       "       'Developer with a statistics or mathematics background', 'DevOps',\n",
       "       'Embedded application developer',\n",
       "       'Enterprise level services developer',\n",
       "       'Executive (VP of Eng., CTO, CIO, etc.)', 'Front-end web developer',\n",
       "       'Full-stack web developer', 'Graphics programmer', 'Growth hacker',\n",
       "       'Machine learning developer', 'Mobile developer',\n",
       "       'Mobile developer - Android', 'Mobile developer - iOS',\n",
       "       'Mobile developer - Windows Phone', 'Product manager',\n",
       "       'Quality Assurance', 'Student', 'System administrator', nan], dtype=object)"
      ]
     },
     "execution_count": 146,
     "metadata": {},
     "output_type": "execute_result"
    }
   ],
   "source": [
    "df2015['Occupation'].unique()\n",
    "# Data Scientists title is present in 2015. We can use this dataset for our analysis."
   ]
  },
  {
   "cell_type": "code",
   "execution_count": 154,
   "metadata": {
    "collapsed": true
   },
   "outputs": [],
   "source": [
    "# Calculate count of R and Python Users\n",
    "df2015['RUser'] = np.where(df2015['Current Lang & Tech: R'].notnull(),True,False)\n",
    "df2015['PythonUser'] = np.where(df2015['Current Lang & Tech: Python'].notnull(),True,False)"
   ]
  },
  {
   "cell_type": "code",
   "execution_count": 157,
   "metadata": {
    "collapsed": true
   },
   "outputs": [],
   "source": [
    "# Calculate counts of Users with Bachelors, Masters and PhD. The source of bias could be in how the question in the \n",
    "# survey is framed. For example - 'Training & Education: BS in CS'.\n",
    "# The degree is specific to Computer Science only and it's possible that many Data Scientists might have degrees in \n",
    "# other disciplines, but let's assume that it doesn't make any difference in our analysis.\n",
    "\n",
    "df2015['Bachelors'] = np.where(df2015['Training & Education: BS in CS'].notnull(), True, False)\n",
    "df2015['Masters'] = np.where(df2015['Training & Education: Masters in CS'].notnull(), True, False)\n",
    "df2015['PhD'] = np.where(df2015['Training & Education: PhD in CS'].notnull(), True, False)"
   ]
  },
  {
   "cell_type": "code",
   "execution_count": 158,
   "metadata": {
    "collapsed": true
   },
   "outputs": [],
   "source": [
    "# Function to count number of Data Scientists\n",
    "def DataScientist3(df):\n",
    "    return(df.apply(lambda x: True if ('Data scientist' in str(x).split('; ') or \n",
    "                                             'Machine learning developer' in str(x).split('; ') or \n",
    "                                             'Developer with a statistics or mathematics background' \n",
    "                                             in str(x).split('; ')) else False))"
   ]
  },
  {
   "cell_type": "code",
   "execution_count": 161,
   "metadata": {
    "collapsed": false
   },
   "outputs": [
    {
     "name": "stdout",
     "output_type": "stream",
     "text": [
      "Number of Data Scientists in 2015 survey results are: 1018\n"
     ]
    }
   ],
   "source": [
    "df2015['IsDataScientist'] = DataScientist3(df2015['Occupation'])\n",
    "print 'Number of Data Scientists in 2015 survey results are:', df2015['IsDataScientist'].value_counts()[1]"
   ]
  },
  {
   "cell_type": "code",
   "execution_count": 288,
   "metadata": {
    "collapsed": false
   },
   "outputs": [],
   "source": [
    "# Clean and select only relevant columns for 2015\n",
    "df2015['Year'] = 2015\n",
    "\n",
    "df2015.rename(columns = {'Compensation: midpoint':'Salary'}, inplace = True)\n",
    "df2015 = df2015[['Country','RUser','PythonUser','IsDataScientist','Bachelors','Masters','PhD','Salary','Year']]\n",
    "dfDataScientist2015 = df2015[df2015['IsDataScientist'] == True]"
   ]
  },
  {
   "cell_type": "code",
   "execution_count": 264,
   "metadata": {
    "collapsed": true
   },
   "outputs": [],
   "source": [
    "# 2016 data\n",
    "df2016 = pd.read_csv('/Users/mohitravi/Desktop/Stack Overflow/2016 Stack Overflow Survey Results/2016 Stack Overflow Survey Responses.csv')"
   ]
  },
  {
   "cell_type": "code",
   "execution_count": 265,
   "metadata": {
    "collapsed": false
   },
   "outputs": [
    {
     "data": {
      "text/plain": [
       "['Unnamed: 0',\n",
       " 'collector',\n",
       " 'country',\n",
       " 'un_subregion',\n",
       " 'so_region',\n",
       " 'age_range',\n",
       " 'age_midpoint',\n",
       " 'gender',\n",
       " 'self_identification',\n",
       " 'occupation',\n",
       " 'occupation_group',\n",
       " 'experience_range',\n",
       " 'experience_midpoint',\n",
       " 'salary_range',\n",
       " 'salary_midpoint',\n",
       " 'big_mac_index',\n",
       " 'tech_do',\n",
       " 'tech_want',\n",
       " 'aliens',\n",
       " 'programming_ability',\n",
       " 'employment_status',\n",
       " 'industry',\n",
       " 'company_size_range',\n",
       " 'team_size_range',\n",
       " 'women_on_team',\n",
       " 'remote',\n",
       " 'job_satisfaction',\n",
       " 'job_discovery',\n",
       " 'dev_environment',\n",
       " 'commit_frequency',\n",
       " 'hobby',\n",
       " 'dogs_vs_cats',\n",
       " 'desktop_os',\n",
       " 'unit_testing',\n",
       " 'rep_range',\n",
       " 'visit_frequency',\n",
       " 'why_learn_new_tech',\n",
       " 'education',\n",
       " 'open_to_new_job',\n",
       " 'new_job_value',\n",
       " 'job_search_annoyance',\n",
       " 'interview_likelihood',\n",
       " 'how_to_improve_interview_process',\n",
       " 'star_wars_vs_star_trek',\n",
       " 'agree_tech',\n",
       " 'agree_notice',\n",
       " 'agree_problemsolving',\n",
       " 'agree_diversity',\n",
       " 'agree_adblocker',\n",
       " 'agree_alcohol',\n",
       " 'agree_loveboss',\n",
       " 'agree_nightcode',\n",
       " 'agree_legacy',\n",
       " 'agree_mars',\n",
       " 'important_variety',\n",
       " 'important_control',\n",
       " 'important_sameend',\n",
       " 'important_newtech',\n",
       " 'important_buildnew',\n",
       " 'important_buildexisting',\n",
       " 'important_promotion',\n",
       " 'important_companymission',\n",
       " 'important_wfh',\n",
       " 'important_ownoffice',\n",
       " 'developer_challenges',\n",
       " 'why_stack_overflow']"
      ]
     },
     "execution_count": 265,
     "metadata": {},
     "output_type": "execute_result"
    }
   ],
   "source": [
    "list(df2016.columns)"
   ]
  },
  {
   "cell_type": "code",
   "execution_count": 266,
   "metadata": {
    "collapsed": false
   },
   "outputs": [],
   "source": [
    "# Count number of R and Python Users. We can leverage the fucntions used earlier.\n",
    "df2016['RUser'] = RUser(df2016['tech_do'])\n",
    "df2016['PythonUser'] = PythonUser(df2016['tech_do'])"
   ]
  },
  {
   "cell_type": "code",
   "execution_count": 267,
   "metadata": {
    "collapsed": false
   },
   "outputs": [
    {
     "data": {
      "text/plain": [
       "I'm self-taught                                                   31508\n",
       "On-the-job training                                               18548\n",
       "B.S. in Computer Science (or related field)                       15494\n",
       "Online class (e.g. Coursera, Codecademy, Khan Academy, etc.)      11861\n",
       "Some college coursework in Computer Science (or related field)     9384\n",
       "Masters Degree in Computer Science (or related field)              8441\n",
       "B.A. in Computer Science (or related field)                        3858\n",
       "Industry certification program                                     3002\n",
       "Full-time, intensive program (e.g. \"boot-camp\")                    2819\n",
       "Part-time program (e.g. night school)                              1812\n",
       "PhD in Computer Science (or related field)                          919\n",
       "Mentorship program (e.g. Flatiron School, GDI, etc.)                560\n",
       "dtype: int64"
      ]
     },
     "execution_count": 267,
     "metadata": {},
     "output_type": "execute_result"
    }
   ],
   "source": [
    "# Leverage count function used earlier to find number of Bachelor's, Masters and PhD respondants.\n",
    "UniqueCount(df2016['education']).value_counts()"
   ]
  },
  {
   "cell_type": "code",
   "execution_count": 268,
   "metadata": {
    "collapsed": false,
    "scrolled": true
   },
   "outputs": [
    {
     "data": {
      "text/plain": [
       "Full-stack web developer                                                                                13886\n",
       "Back-end web developer                                                                                   6061\n",
       "Student                                                                                                  5619\n",
       "Mobile Dev (Android, iOS, WP & Multi-Platform)                                                           4139\n",
       "Desktop developer                                                                                        3390\n",
       "Front-end web developer                                                                                  2873\n",
       "Mathematics Developers (Data Scientists, Machine Learning Devs & Devs with Stats & Math Backgrounds)     2145\n",
       "Enterprise level services developer                                                                      1471\n",
       "Embedded application developer                                                                           1268\n",
       "DevOps                                                                                                   1074\n",
       "Executive (VP of Eng., CTO, CIO, etc.)                                                                    888\n",
       "System administrator                                                                                      745\n",
       "Engineering manager                                                                                       697\n",
       "Analyst                                                                                                   570\n",
       "Business intelligence or data warehousing expert                                                          392\n",
       "Quality Assurance                                                                                         379\n",
       "Product manager                                                                                           333\n",
       "Designer                                                                                                  333\n",
       "Graphics programmer                                                                                       293\n",
       "Database administrator                                                                                    258\n",
       "Growth hacker                                                                                             120\n",
       "Name: occupation_group, dtype: int64"
      ]
     },
     "execution_count": 268,
     "metadata": {},
     "output_type": "execute_result"
    }
   ],
   "source": [
    "# Find counts of Occupation Group\n",
    "df2016['occupation_group'].value_counts()"
   ]
  },
  {
   "cell_type": "code",
   "execution_count": 269,
   "metadata": {
    "collapsed": false
   },
   "outputs": [],
   "source": [
    "# We can consider Analyst and Mathematics Developers as Data Scientists.\n",
    "def DataScientist4(df):\n",
    "    return(df.apply(lambda x: True if ('Analyst' in str(x).split('; ') or \n",
    "                                       'Mathematics Developers (Data Scientists, Machine Learning Devs & Devs with Stats & Math Backgrounds)' \n",
    "                                       in str(x).split('; ')) else False))"
   ]
  },
  {
   "cell_type": "code",
   "execution_count": 270,
   "metadata": {
    "collapsed": false
   },
   "outputs": [
    {
     "name": "stdout",
     "output_type": "stream",
     "text": [
      "Number of Data Scientists in 2016 survey results are: 2715\n"
     ]
    }
   ],
   "source": [
    "df2016['IsDataScientist'] = DataScientist4(df2016['occupation_group'])\n",
    "print 'Number of Data Scientists in 2016 survey results are:', df2016['IsDataScientist'].value_counts()[1]"
   ]
  },
  {
   "cell_type": "code",
   "execution_count": 271,
   "metadata": {
    "collapsed": true
   },
   "outputs": [],
   "source": [
    "# Clean and select only relevant columns for 2016\n",
    "def Bachelors(df):\n",
    "    return(df.apply(lambda x: True if ('B.S. in Computer Science (or related field)' in str(x).split('; ') or \n",
    "                                      'B.A. in Computer Science (or related field)' in str(x).split('; ')) \n",
    "                                       else False))\n",
    "def Masters(df):\n",
    "    return(df.apply(lambda x: True if 'Masters Degree in Computer Science (or related field)' in str(x).split('; ')\n",
    "                                       else False))\n",
    "def PhD(df):\n",
    "    return(df.apply(lambda x: True if 'PhD in Computer Science (or related field)' in str(x).split('; ')\n",
    "                                       else False))\n",
    "\n",
    "df2016['Bachelors'] = Bachelors(df2016['education'])\n",
    "df2016['Masters'] = Masters(df2016['education'])\n",
    "df2016['PhD'] = PhD(df2016['education'])\n",
    "\n",
    "df2016.rename(columns = {'country':'Country','salary_midpoint':'Salary'}, inplace = True)\n",
    "df2016['Year'] = 2016\n",
    "df2016 = df2016[['Country','RUser','PythonUser','IsDataScientist','Bachelors','Masters','PhD','Salary','Year']]\n",
    "dfDataScientist2016 = df2016[df2016['IsDataScientist'] == True]"
   ]
  },
  {
   "cell_type": "code",
   "execution_count": 296,
   "metadata": {
    "collapsed": false
   },
   "outputs": [
    {
     "name": "stderr",
     "output_type": "stream",
     "text": [
      "/Users/mohitravi/anaconda/lib/python2.7/site-packages/ipykernel/__main__.py:2: SettingWithCopyWarning: \n",
      "A value is trying to be set on a copy of a slice from a DataFrame.\n",
      "Try using .loc[row_indexer,col_indexer] = value instead\n",
      "\n",
      "See the caveats in the documentation: http://pandas.pydata.org/pandas-docs/stable/indexing.html#indexing-view-versus-copy\n",
      "  from ipykernel import kernelapp as app\n"
     ]
    }
   ],
   "source": [
    "# Clean and select only relevant columns for 2017\n",
    "dfDataScientist2017['Year'] = 2017\n",
    "dfDataScientist2017['Bachelors'] = np.where(dfDataScientist2017['FormalEducation'] == \"Bachelor's degree\", True, False)\n",
    "dfDataScientist2017['Masters'] = np.where(dfDataScientist2017['FormalEducation'] == \"Master's degree\", True, False)\n",
    "dfDataScientist2017['PhD'] = np.where(dfDataScientist2017['FormalEducation'] == \"Doctoral degree\", True, False)\n",
    "\n",
    "dfDataScientist2017 = dfDataScientist2017[['Country','RUser','PythonUser','IsDataScientist','Bachelors',\n",
    "                                           'Masters','PhD','Salary','Year']]"
   ]
  },
  {
   "cell_type": "markdown",
   "metadata": {},
   "source": [
    "# ** Question - 5 **"
   ]
  },
  {
   "cell_type": "code",
   "execution_count": 306,
   "metadata": {
    "collapsed": false
   },
   "outputs": [],
   "source": [
    "# Append 2015, 2016 and 2017 Dataframes\n",
    "dfall = pd.concat((dfDataScientist2015,dfDataScientist2016,dfDataScientist2017), axis = 0)"
   ]
  },
  {
   "cell_type": "code",
   "execution_count": 309,
   "metadata": {
    "collapsed": false
   },
   "outputs": [],
   "source": [
    "dfall['Salary'].replace(['Rather not say','Unemployed'], np.NaN, inplace = True)\n",
    "dfall['Salary'] = dfall['Salary'].astype(float)"
   ]
  },
  {
   "cell_type": "code",
   "execution_count": 324,
   "metadata": {
    "collapsed": false
   },
   "outputs": [
    {
     "data": {
      "text/plain": [
       "Year\n",
       "2015    1018\n",
       "2016    2715\n",
       "2017    8876\n",
       "Name: IsDataScientist, dtype: int64"
      ]
     },
     "execution_count": 324,
     "metadata": {},
     "output_type": "execute_result"
    }
   ],
   "source": [
    "# Number of Users who are Data Scientists in 2015, 2016 and 2017\n",
    "dfall.groupby('Year')['IsDataScientist'].agg('count')"
   ]
  },
  {
   "cell_type": "markdown",
   "metadata": {},
   "source": [
    "We can observe an 8 times or almost 700% increase in respondants who call themselves Data Scientists from 2015 to 2017"
   ]
  },
  {
   "cell_type": "code",
   "execution_count": 333,
   "metadata": {
    "collapsed": false
   },
   "outputs": [
    {
     "name": "stdout",
     "output_type": "stream",
     "text": [
      "2015: 3.90247642414\n",
      "2016: 4.8456184187\n",
      "2017: 17.2711706102\n"
     ]
    }
   ],
   "source": [
    "# Let's also check the % increase with respect to total respondants\n",
    "print '2015:', (dfDataScientist2015.shape[0]/df2015.shape[0]) * 100\n",
    "print '2016:', (dfDataScientist2016.shape[0]/df2016.shape[0]) * 100\n",
    "print '2017:', (dfDataScientist2017.shape[0]/df2017.shape[0]) * 100"
   ]
  },
  {
   "cell_type": "markdown",
   "metadata": {},
   "source": [
    "Again we see a 6 times increase in Data Scientists with respect to all professions from 2015 to 2017. Certainly, with increased demand for analytics professionals, more people have taken up data science."
   ]
  },
  {
   "cell_type": "markdown",
   "metadata": {},
   "source": [
    "# ** Question - 6 **"
   ]
  },
  {
   "cell_type": "code",
   "execution_count": 339,
   "metadata": {
    "collapsed": false
   },
   "outputs": [
    {
     "data": {
      "text/html": [
       "<div>\n",
       "<table border=\"1\" class=\"dataframe\">\n",
       "  <thead>\n",
       "    <tr style=\"text-align: right;\">\n",
       "      <th></th>\n",
       "      <th>RUser</th>\n",
       "      <th>PythonUser</th>\n",
       "    </tr>\n",
       "    <tr>\n",
       "      <th>Year</th>\n",
       "      <th></th>\n",
       "      <th></th>\n",
       "    </tr>\n",
       "  </thead>\n",
       "  <tbody>\n",
       "    <tr>\n",
       "      <th>2015</th>\n",
       "      <td>296.0</td>\n",
       "      <td>510.0</td>\n",
       "    </tr>\n",
       "    <tr>\n",
       "      <th>2016</th>\n",
       "      <td>643.0</td>\n",
       "      <td>1359.0</td>\n",
       "    </tr>\n",
       "    <tr>\n",
       "      <th>2017</th>\n",
       "      <td>918.0</td>\n",
       "      <td>3039.0</td>\n",
       "    </tr>\n",
       "  </tbody>\n",
       "</table>\n",
       "</div>"
      ],
      "text/plain": [
       "0     RUser  PythonUser\n",
       "Year                   \n",
       "2015  296.0       510.0\n",
       "2016  643.0      1359.0\n",
       "2017  918.0      3039.0"
      ]
     },
     "execution_count": 339,
     "metadata": {},
     "output_type": "execute_result"
    }
   ],
   "source": [
    "# Number of R and Python users in 2015, 2016 and 2017\n",
    "dfall.groupby('Year')['RUser','PythonUser'].agg('sum')"
   ]
  },
  {
   "cell_type": "code",
   "execution_count": 386,
   "metadata": {
    "collapsed": false
   },
   "outputs": [
    {
     "data": {
      "text/plain": [
       "<matplotlib.text.Text at 0x11d2b7d10>"
      ]
     },
     "execution_count": 386,
     "metadata": {},
     "output_type": "execute_result"
    },
    {
     "data": {
      "image/png": "[encoded data removed]",
      "text/plain": [
       "<matplotlib.figure.Figure at 0x12c029490>"
      ]
     },
     "metadata": {},
     "output_type": "display_data"
    }
   ],
   "source": [
    "dfall['Year'] = dfall['Year'].astype(str)\n",
    "dfall.groupby('Year')['RUser','PythonUser'].agg('sum').plot()\n",
    "plt.style.use('ggplot')\n",
    "plt.ylabel('Number of Users')"
   ]
  },
  {
   "cell_type": "markdown",
   "metadata": {},
   "source": [
    "Data Scientists are increasingly using R and Python since 2015. Though, from this dataset, there are more respondants who use Python rather than R."
   ]
  },
  {
   "cell_type": "markdown",
   "metadata": {},
   "source": [
    "# ** Question - 7 **"
   ]
  },
  {
   "cell_type": "code",
   "execution_count": 413,
   "metadata": {
    "collapsed": false
   },
   "outputs": [
    {
     "data": {
      "text/html": [
       "<div>\n",
       "<table border=\"1\" class=\"dataframe\">\n",
       "  <thead>\n",
       "    <tr style=\"text-align: right;\">\n",
       "      <th></th>\n",
       "      <th>Bachelors</th>\n",
       "      <th>Masters</th>\n",
       "      <th>PhD</th>\n",
       "    </tr>\n",
       "    <tr>\n",
       "      <th>Year</th>\n",
       "      <th></th>\n",
       "      <th></th>\n",
       "      <th></th>\n",
       "    </tr>\n",
       "  </thead>\n",
       "  <tbody>\n",
       "    <tr>\n",
       "      <th>2015</th>\n",
       "      <td>256.0</td>\n",
       "      <td>260.0</td>\n",
       "      <td>122.0</td>\n",
       "    </tr>\n",
       "    <tr>\n",
       "      <th>2016</th>\n",
       "      <td>817.0</td>\n",
       "      <td>694.0</td>\n",
       "      <td>251.0</td>\n",
       "    </tr>\n",
       "    <tr>\n",
       "      <th>2017</th>\n",
       "      <td>3549.0</td>\n",
       "      <td>2794.0</td>\n",
       "      <td>671.0</td>\n",
       "    </tr>\n",
       "  </tbody>\n",
       "</table>\n",
       "</div>"
      ],
      "text/plain": [
       "0     Bachelors  Masters    PhD\n",
       "Year                           \n",
       "2015      256.0    260.0  122.0\n",
       "2016      817.0    694.0  251.0\n",
       "2017     3549.0   2794.0  671.0"
      ]
     },
     "execution_count": 413,
     "metadata": {},
     "output_type": "execute_result"
    }
   ],
   "source": [
    "dfall.groupby('Year')['Bachelors','Masters','PhD'].agg('sum')"
   ]
  },
  {
   "cell_type": "markdown",
   "metadata": {},
   "source": [
    "We can see that the number of respondants who are Data Scientists, having a Master's or PhD has increased almost 900% and 450% respectively. Let's also calculate the perentage of Masters and PhD with respect to the total, to get a clear picture."
   ]
  },
  {
   "cell_type": "code",
   "execution_count": 417,
   "metadata": {
    "collapsed": true
   },
   "outputs": [],
   "source": [
    "def PercentOfTotal(s):\n",
    "    return (s.sum()/s.count()) * 100"
   ]
  },
  {
   "cell_type": "code",
   "execution_count": 419,
   "metadata": {
    "collapsed": false
   },
   "outputs": [
    {
     "data": {
      "text/html": [
       "<div>\n",
       "<table border=\"1\" class=\"dataframe\">\n",
       "  <thead>\n",
       "    <tr>\n",
       "      <th></th>\n",
       "      <th colspan=\"2\" halign=\"left\">Bachelors</th>\n",
       "      <th colspan=\"2\" halign=\"left\">Masters</th>\n",
       "      <th colspan=\"2\" halign=\"left\">PhD</th>\n",
       "    </tr>\n",
       "    <tr>\n",
       "      <th></th>\n",
       "      <th>sum</th>\n",
       "      <th>PercentOfTotal</th>\n",
       "      <th>sum</th>\n",
       "      <th>PercentOfTotal</th>\n",
       "      <th>sum</th>\n",
       "      <th>PercentOfTotal</th>\n",
       "    </tr>\n",
       "    <tr>\n",
       "      <th>Year</th>\n",
       "      <th></th>\n",
       "      <th></th>\n",
       "      <th></th>\n",
       "      <th></th>\n",
       "      <th></th>\n",
       "      <th></th>\n",
       "    </tr>\n",
       "  </thead>\n",
       "  <tbody>\n",
       "    <tr>\n",
       "      <th>2015</th>\n",
       "      <td>256.0</td>\n",
       "      <td>25.147348</td>\n",
       "      <td>260.0</td>\n",
       "      <td>25.540275</td>\n",
       "      <td>122.0</td>\n",
       "      <td>11.984283</td>\n",
       "    </tr>\n",
       "    <tr>\n",
       "      <th>2016</th>\n",
       "      <td>817.0</td>\n",
       "      <td>30.092081</td>\n",
       "      <td>694.0</td>\n",
       "      <td>25.561694</td>\n",
       "      <td>251.0</td>\n",
       "      <td>9.244936</td>\n",
       "    </tr>\n",
       "    <tr>\n",
       "      <th>2017</th>\n",
       "      <td>3549.0</td>\n",
       "      <td>39.984227</td>\n",
       "      <td>2794.0</td>\n",
       "      <td>31.478143</td>\n",
       "      <td>671.0</td>\n",
       "      <td>7.559712</td>\n",
       "    </tr>\n",
       "  </tbody>\n",
       "</table>\n",
       "</div>"
      ],
      "text/plain": [
       "     Bachelors                Masters                   PhD               \n",
       "           sum PercentOfTotal     sum PercentOfTotal    sum PercentOfTotal\n",
       "Year                                                                      \n",
       "2015     256.0      25.147348   260.0      25.540275  122.0      11.984283\n",
       "2016     817.0      30.092081   694.0      25.561694  251.0       9.244936\n",
       "2017    3549.0      39.984227  2794.0      31.478143  671.0       7.559712"
      ]
     },
     "execution_count": 419,
     "metadata": {},
     "output_type": "execute_result"
    }
   ],
   "source": [
    "dfall.groupby('Year')['Bachelors','Masters','PhD'].agg(['sum',PercentOfTotal])"
   ]
  },
  {
   "cell_type": "markdown",
   "metadata": {},
   "source": [
    "Here, we can see that a higher % of Data Scientists hold a Bachelors and Masters degree in 2017 compared to 2015. Though the real surprise is that the % of Data Scientists who hold a PhD has gone done from 11% in 2015 to 7% in 2017. One reason might be that employers are increasingly hiring more candidates with only a Bachelors or Masters degree to meet the demand for Data Scientists!"
   ]
  },
  {
   "cell_type": "markdown",
   "metadata": {},
   "source": [
    "# ** Question - 8 **"
   ]
  },
  {
   "cell_type": "code",
   "execution_count": 422,
   "metadata": {
    "collapsed": false
   },
   "outputs": [
    {
     "data": {
      "text/html": [
       "<div>\n",
       "<table border=\"1\" class=\"dataframe\">\n",
       "  <thead>\n",
       "    <tr style=\"text-align: right;\">\n",
       "      <th></th>\n",
       "      <th>median</th>\n",
       "      <th>mean</th>\n",
       "    </tr>\n",
       "    <tr>\n",
       "      <th>Year</th>\n",
       "      <th></th>\n",
       "      <th></th>\n",
       "    </tr>\n",
       "  </thead>\n",
       "  <tbody>\n",
       "    <tr>\n",
       "      <th>2015</th>\n",
       "      <td>90000.0</td>\n",
       "      <td>96276.595745</td>\n",
       "    </tr>\n",
       "    <tr>\n",
       "      <th>2016</th>\n",
       "      <td>95000.0</td>\n",
       "      <td>100426.136364</td>\n",
       "    </tr>\n",
       "    <tr>\n",
       "      <th>2017</th>\n",
       "      <td>100000.0</td>\n",
       "      <td>100755.710787</td>\n",
       "    </tr>\n",
       "  </tbody>\n",
       "</table>\n",
       "</div>"
      ],
      "text/plain": [
       "        median           mean\n",
       "Year                         \n",
       "2015   90000.0   96276.595745\n",
       "2016   95000.0  100426.136364\n",
       "2017  100000.0  100755.710787"
      ]
     },
     "execution_count": 422,
     "metadata": {},
     "output_type": "execute_result"
    }
   ],
   "source": [
    "dfall[dfall['Country'] == 'United States'].groupby('Year')['Salary'].agg(['median','mean'])"
   ]
  },
  {
   "cell_type": "markdown",
   "metadata": {},
   "source": [
    "The median salary for Data Scientists has grown at of rate of 5,000$ per year from 2015 in the United States."
   ]
  }
 ],
 "metadata": {
  "anaconda-cloud": {},
  "kernelspec": {
   "display_name": "Python [default]",
   "language": "python",
   "name": "python2"
  },
  "language_info": {
   "codemirror_mode": {
    "name": "ipython",
    "version": 2
   },
   "file_extension": ".py",
   "mimetype": "text/x-python",
   "name": "python",
   "nbconvert_exporter": "python",
   "pygments_lexer": "ipython2",
   "version": "2.7.12"
  }
 },
 "nbformat": 4,
 "nbformat_minor": 1
}
